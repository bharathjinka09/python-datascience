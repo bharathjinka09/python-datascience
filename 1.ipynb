{
 "cells": [
  {
   "cell_type": "code",
   "execution_count": 5,
   "metadata": {},
   "outputs": [
    {
     "name": "stdout",
     "output_type": "stream",
     "text": [
      "a    False\n",
      "b     True\n",
      "c    False\n",
      "d     True\n",
      "e    False\n",
      "f    False\n",
      "g     True\n",
      "h    False\n",
      "Name: one, dtype: bool\n"
     ]
    }
   ],
   "source": [
    "import pandas as pd\n",
    "import numpy as np\n",
    " \n",
    "df = pd.DataFrame(np.random.randn(5, 3), index=['a', 'c', 'e', 'f',\n",
    "'h'],columns=['one', 'two', 'three'])\n",
    "\n",
    "df = df.reindex(['a', 'b', 'c', 'd', 'e', 'f', 'g', 'h'])\n",
    "\n",
    "print(df['one'].isnull())"
   ]
  },
  {
   "cell_type": "markdown",
   "metadata": {},
   "source": [
    "# The following program shows how you can replace \"NaN\" with \"0\".\n",
    "\n"
   ]
  },
  {
   "cell_type": "code",
   "execution_count": 12,
   "metadata": {},
   "outputs": [
    {
     "name": "stdout",
     "output_type": "stream",
     "text": [
      "        one       two     three\n",
      "a  1.491540 -1.866781  0.759699\n",
      "b  2.096886 -0.538005  0.835270\n",
      "c  0.987437 -1.732494  1.967784\n",
      "        one       two     three\n",
      "a  1.491540 -1.866781  0.759699\n",
      "b  2.096886 -0.538005  0.835270\n",
      "c  0.987437 -1.732494  1.967784\n",
      "NaN replaced with '0':\n",
      "        one       two     three\n",
      "a  1.491540 -1.866781  0.759699\n",
      "b  2.096886 -0.538005  0.835270\n",
      "c  0.987437 -1.732494  1.967784\n"
     ]
    }
   ],
   "source": [
    "import pandas as pd\n",
    "import numpy as np\n",
    "df = pd.DataFrame(np.random.randn(3, 3), index=['a', 'b', 'c'],columns=['one',\n",
    "'two', 'three'])\n",
    "print (df)\n",
    "df = df.reindex(['a', 'b', 'c'])\n",
    "print (df)\n",
    "print (\"NaN replaced with '0':\")\n",
    "print (df.fillna(0))"
   ]
  },
  {
   "cell_type": "code",
   "execution_count": null,
   "metadata": {},
   "outputs": [],
   "source": []
  }
 ],
 "metadata": {
  "interpreter": {
   "hash": "0bcfbe3e225a5ba8cabc38cdc174dfce83ac3bdbbfd5146c591d1e847a371bb2"
  },
  "kernelspec": {
   "display_name": "Python 3.9.5 ('venv': venv)",
   "language": "python",
   "name": "python3"
  },
  "language_info": {
   "codemirror_mode": {
    "name": "ipython",
    "version": 3
   },
   "file_extension": ".py",
   "mimetype": "text/x-python",
   "name": "python",
   "nbconvert_exporter": "python",
   "pygments_lexer": "ipython3",
   "version": "3.9.5"
  },
  "orig_nbformat": 4
 },
 "nbformat": 4,
 "nbformat_minor": 2
}
